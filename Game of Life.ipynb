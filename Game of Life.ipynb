{
 "cells": [
  {
   "cell_type": "markdown",
   "metadata": {},
   "source": [
    "## Import the libraries"
   ]
  },
  {
   "cell_type": "code",
   "execution_count": 43,
   "metadata": {},
   "outputs": [],
   "source": [
    "import numpy as np\n",
    "import matplotlib.pyplot as plt\n",
    "from IPython import display\n",
    "import time"
   ]
  },
  {
   "cell_type": "code",
   "execution_count": 44,
   "metadata": {},
   "outputs": [],
   "source": [
    "# To compute the number of neighbours, we don't iterate over the rows and columns of the world.\n",
    "# Instead, we translate the world by one cell at a time and make the sum.\n",
    "\n",
    "def compute_number_of_neighbours(world):\n",
    "    return (world[0:-2, 0:-2] + world[0:-2, 1:-1] + world[0:-2, 2:] +\n",
    "            world[1:-1, 0:-2]                     + world[1:-1, 2:] +\n",
    "            world[2:  , 0:-2] + world[2:, 1:-1]   + world[2:, 2:])\n",
    "\n",
    "# Rules :\n",
    "# Alive = 1 ,  Dead = 0\n",
    "# Alive  -> Alive if 2 | 3 neighbours\n",
    "# Alive -> Dead if < 2 | > 3 neighbours\n",
    "# Dead -> Alive if 3 neighbours\n",
    "\n",
    "def iterate(world):\n",
    "    # Compute the number of neighbours of each cell\n",
    "    neighbours = compute_number_of_neighbours(world)\n",
    "    # Look what will be the next state of each cell\n",
    "    death = ((neighbours < 2) | (neighbours > 3)) & (world[1:-1, 1:-1] == 1)\n",
    "    birth = (neighbours == 3) & (world[1:-1, 1:-1] == 0)\n",
    "    # Replace the current cells by their next state\n",
    "    world[1:-1, 1:-1][death] = 0\n",
    "    world[1:-1, 1:-1][birth] = 1\n",
    "    # The borders will be 0\n",
    "    world[0, :] = world[-1, :] = world[:, 0] = world[:, -1] = 0\n",
    "    \n",
    "    \n",
    "def display_world(world, number_of_iterations):\n",
    "    \"\"\"Display the evolution of world for the next number_of_iterations\"\"\"\n",
    "    for i in range(number_of_iterations):\n",
    "        display.clear_output(wait=True)\n",
    "        fig = plt.imshow(world, cmap=plt.cm.gray_r)\n",
    "        fig.axes.get_xaxis().set_visible(False)\n",
    "        fig.axes.get_yaxis().set_visible(False)\n",
    "        plt.show()\n",
    "        iterate(world)\n",
    "        time.sleep(0.1)    "
   ]
  },
  {
   "cell_type": "markdown",
   "metadata": {},
   "source": [
    "___"
   ]
  },
  {
   "cell_type": "markdown",
   "metadata": {},
   "source": [
    "## Stable Structures"
   ]
  },
  {
   "cell_type": "markdown",
   "metadata": {},
   "source": [
    "### Block"
   ]
  },
  {
   "cell_type": "code",
   "execution_count": 45,
   "metadata": {},
   "outputs": [
    {
     "data": {
      "image/png": "[encoded data removed]",
      "text/plain": [
       "<Figure size 432x288 with 1 Axes>"
      ]
     },
     "metadata": {},
     "output_type": "display_data"
    }
   ],
   "source": [
    "world_block = np.zeros((20,20), np.int8)\n",
    "block = np.array([[1,1],\n",
    "                  [1,1]])\n",
    "\n",
    "world_block[5:5+block.shape[0], 5:5+block.shape[1]] = block\n",
    "\n",
    "display_world(world_block, 5)"
   ]
  },
  {
   "cell_type": "markdown",
   "metadata": {},
   "source": [
    "### Beehive"
   ]
  },
  {
   "cell_type": "code",
   "execution_count": 46,
   "metadata": {},
   "outputs": [
    {
     "data": {
      "image/png": "[encoded data removed]",
      "text/plain": [
       "<Figure size 432x288 with 1 Axes>"
      ]
     },
     "metadata": {},
     "output_type": "display_data"
    }
   ],
   "source": [
    "world_beehive = np.zeros((20,20), np.int8)\n",
    "\n",
    "beehive = np.array([[0,1,1,0], \n",
    "                    [1,0,0,1],\n",
    "                    [0,1,1,0]])\n",
    "\n",
    "world_beehive[5:5+beehive.shape[0], 5:5+beehive.shape[1]] = beehive\n",
    "\n",
    "display_world(world_beehive, 45)"
   ]
  },
  {
   "cell_type": "markdown",
   "metadata": {},
   "source": [
    "### Tub"
   ]
  },
  {
   "cell_type": "code",
   "execution_count": 11,
   "metadata": {},
   "outputs": [
    {
     "data": {
      "image/png": "[encoded data removed]",
      "text/plain": [
       "<Figure size 432x288 with 1 Axes>"
      ]
     },
     "metadata": {},
     "output_type": "display_data"
    }
   ],
   "source": [
    "world_tub = np.zeros((20,20), np.int8)\n",
    "\n",
    "tub = np.array([[0,1,0], \n",
    "                [1,0,1],\n",
    "                [0,1,0]])\n",
    "\n",
    "world_tub[5:5+tub.shape[0], 5:5+tub.shape[1]] = tub\n",
    "\n",
    "display_world(world_tub, 5)"
   ]
  },
  {
   "cell_type": "markdown",
   "metadata": {},
   "source": [
    "### Loaf"
   ]
  },
  {
   "cell_type": "code",
   "execution_count": 12,
   "metadata": {},
   "outputs": [
    {
     "data": {
      "image/png": "[encoded data removed]",
      "text/plain": [
       "<Figure size 432x288 with 1 Axes>"
      ]
     },
     "metadata": {},
     "output_type": "display_data"
    }
   ],
   "source": [
    "world_loaf = np.zeros((20,20), np.int8)\n",
    "\n",
    "loaf = np.array([[0,1,1,0], \n",
    "                 [1,0,0,1],\n",
    "                 [0,1,0,1],\n",
    "                 [0,0,1,0]])\n",
    "\n",
    "world_loaf[5:5+loaf.shape[0], 5:5+loaf.shape[1]] = loaf\n",
    "\n",
    "display_world(world_loaf, 5)"
   ]
  },
  {
   "cell_type": "markdown",
   "metadata": {},
   "source": [
    "### Boat"
   ]
  },
  {
   "cell_type": "code",
   "execution_count": 13,
   "metadata": {},
   "outputs": [
    {
     "data": {
      "image/png": "[encoded data removed]",
      "text/plain": [
       "<Figure size 432x288 with 1 Axes>"
      ]
     },
     "metadata": {},
     "output_type": "display_data"
    }
   ],
   "source": [
    "world_boat = np.zeros((20,20), np.int8)\n",
    "\n",
    "boat = np.array([[1,1,0], \n",
    "                 [1,0,1],\n",
    "                 [0,1,0]])\n",
    "\n",
    "world_boat[5:5+boat.shape[0], 5:5+boat.shape[1]] = boat\n",
    "\n",
    "display_world(world_boat, 5)"
   ]
  },
  {
   "cell_type": "markdown",
   "metadata": {},
   "source": [
    "### Ship"
   ]
  },
  {
   "cell_type": "code",
   "execution_count": 14,
   "metadata": {},
   "outputs": [
    {
     "data": {
      "image/png": "[encoded data removed]",
      "text/plain": [
       "<Figure size 432x288 with 1 Axes>"
      ]
     },
     "metadata": {},
     "output_type": "display_data"
    }
   ],
   "source": [
    "world_ship = np.zeros((20,20), np.int8)\n",
    "\n",
    "ship = np.array([[1,1,0], \n",
    "                 [1,0,1],\n",
    "                 [0,1,1]])\n",
    "\n",
    "world_ship[5:5+ship.shape[0], 5:5+ship.shape[1]] = ship\n",
    "\n",
    "display_world(world_ship, 5)"
   ]
  },
  {
   "cell_type": "markdown",
   "metadata": {},
   "source": [
    "## Oscillators"
   ]
  },
  {
   "cell_type": "markdown",
   "metadata": {},
   "source": [
    "### Blinker"
   ]
  },
  {
   "cell_type": "code",
   "execution_count": 31,
   "metadata": {},
   "outputs": [
    {
     "data": {
      "image/png": "[encoded data removed]",
      "text/plain": [
       "<Figure size 432x288 with 1 Axes>"
      ]
     },
     "metadata": {},
     "output_type": "display_data"
    }
   ],
   "source": [
    "world_blinker = np.zeros((20,20), np.int8)\n",
    "\n",
    "blinker = np.array([[0,1,0], \n",
    "                    [0,1,0],\n",
    "                    [0,1,0]])\n",
    "\n",
    "world_blinker[5:5+blinker.shape[0], 5:5+blinker.shape[1]] = blinker\n",
    "\n",
    "display_world(world_blinker, 5)"
   ]
  },
  {
   "cell_type": "markdown",
   "metadata": {},
   "source": [
    "### Toad"
   ]
  },
  {
   "cell_type": "code",
   "execution_count": 32,
   "metadata": {},
   "outputs": [
    {
     "data": {
      "image/png": "[encoded data removed]",
      "text/plain": [
       "<Figure size 432x288 with 1 Axes>"
      ]
     },
     "metadata": {},
     "output_type": "display_data"
    }
   ],
   "source": [
    "world_toad = np.zeros((20,20), np.int8)\n",
    "\n",
    "toad = np.array([[1,1,1,0], \n",
    "                 [0,1,1,1]])\n",
    "\n",
    "world_toad[5:5+toad.shape[0], 5:5+toad.shape[1]] = toad\n",
    "\n",
    "display_world(world_toad, 5)"
   ]
  },
  {
   "cell_type": "markdown",
   "metadata": {},
   "source": [
    "### Beacon"
   ]
  },
  {
   "cell_type": "code",
   "execution_count": 33,
   "metadata": {},
   "outputs": [
    {
     "data": {
      "image/png": "[encoded data removed]",
      "text/plain": [
       "<Figure size 432x288 with 1 Axes>"
      ]
     },
     "metadata": {},
     "output_type": "display_data"
    }
   ],
   "source": [
    "world_beacon = np.zeros((20,20), np.int8)\n",
    "\n",
    "beacon = np.array([[1,1,0,0], \n",
    "                   [1,1,0,0],\n",
    "                   [0,0,1,1],\n",
    "                   [0,0,1,1]])\n",
    "\n",
    "world_beacon[5:5+beacon.shape[0], 5:5+beacon.shape[1]] = beacon\n",
    "\n",
    "display_world(world_beacon, 5)"
   ]
  },
  {
   "cell_type": "markdown",
   "metadata": {},
   "source": [
    "### Pulsar"
   ]
  },
  {
   "cell_type": "code",
   "execution_count": 34,
   "metadata": {},
   "outputs": [
    {
     "data": {
      "image/png": "[encoded data removed]",
      "text/plain": [
       "<Figure size 432x288 with 1 Axes>"
      ]
     },
     "metadata": {},
     "output_type": "display_data"
    }
   ],
   "source": [
    "world_pulsar = np.zeros((20,20), np.int8)\n",
    "\n",
    "pulsar = np.array([[0,0,1,1,1,0,0,0,1,1,1,0,0], \n",
    "                   [0,0,0,0,0,0,0,0,0,0,0,0,0],\n",
    "                   [1,0,0,0,0,1,0,1,0,0,0,0,1],\n",
    "                   [1,0,0,0,0,1,0,1,0,0,0,0,1],\n",
    "                   [1,0,0,0,0,1,0,1,0,0,0,0,1],\n",
    "                   [0,0,1,1,1,0,0,0,1,1,1,0,0],\n",
    "                   [0,0,0,0,0,0,0,0,0,0,0,0,0],\n",
    "                   [0,0,1,1,1,0,0,0,1,1,1,0,0],\n",
    "                   [1,0,0,0,0,1,0,1,0,0,0,0,1],\n",
    "                   [1,0,0,0,0,1,0,1,0,0,0,0,1],\n",
    "                   [1,0,0,0,0,1,0,1,0,0,0,0,1],\n",
    "                   [0,0,0,0,0,0,0,0,0,0,0,0,0],\n",
    "                   [0,0,1,1,1,0,0,0,1,1,1,0,0]])\n",
    "\n",
    "world_pulsar[5:5+pulsar.shape[0], 5:5+pulsar.shape[1]] = pulsar\n",
    "\n",
    "display_world(world_pulsar, 15)"
   ]
  },
  {
   "cell_type": "markdown",
   "metadata": {},
   "source": [
    "### Pentadecathlon"
   ]
  },
  {
   "cell_type": "code",
   "execution_count": 35,
   "metadata": {},
   "outputs": [
    {
     "data": {
      "image/png": "[encoded data removed]",
      "text/plain": [
       "<Figure size 432x288 with 1 Axes>"
      ]
     },
     "metadata": {},
     "output_type": "display_data"
    }
   ],
   "source": [
    "world_penta = np.zeros((20,20), np.int8)\n",
    "\n",
    "penta = np.array([[0,1,1,1,0], \n",
    "                  [1,0,0,0,1],\n",
    "                  [1,0,0,0,1],  \n",
    "                  [0,1,1,1,0],\n",
    "                  [0,0,0,0,0],\n",
    "                  [0,0,0,0,0],\n",
    "                  [0,0,0,0,0],\n",
    "                  [0,0,0,0,0],\n",
    "                  [0,1,1,1,0], \n",
    "                  [1,0,0,0,1],\n",
    "                  [1,0,0,0,1],  \n",
    "                  [0,1,1,1,0]])\n",
    "\n",
    "world_penta[5:5+penta.shape[0], 5:5+penta.shape[1]] = penta\n",
    "\n",
    "display_world(world_penta, 25)"
   ]
  },
  {
   "cell_type": "markdown",
   "metadata": {},
   "source": [
    "## Spaceships"
   ]
  },
  {
   "cell_type": "markdown",
   "metadata": {},
   "source": [
    "### Glider"
   ]
  },
  {
   "cell_type": "code",
   "execution_count": 36,
   "metadata": {},
   "outputs": [
    {
     "data": {
      "image/png": "[encoded data removed]",
      "text/plain": [
       "<Figure size 432x288 with 1 Axes>"
      ]
     },
     "metadata": {},
     "output_type": "display_data"
    }
   ],
   "source": [
    "world_glider = np.zeros((20,20), np.int8)\n",
    "glider = np.array([[1,0,1],\n",
    "                   [0,1,1],\n",
    "                   [0,1,0]])\n",
    "\n",
    "world_glider[5:5+glider.shape[0], 5:5+glider.shape[1]] = glider\n",
    "\n",
    "display_world(world_glider, 25)"
   ]
  },
  {
   "cell_type": "markdown",
   "metadata": {},
   "source": [
    "### Lightweight Spaceship (LWSS)"
   ]
  },
  {
   "cell_type": "code",
   "execution_count": 37,
   "metadata": {},
   "outputs": [
    {
     "data": {
      "image/png": "[encoded data removed]",
      "text/plain": [
       "<Figure size 432x288 with 1 Axes>"
      ]
     },
     "metadata": {},
     "output_type": "display_data"
    }
   ],
   "source": [
    "world_lwss = np.zeros((20,20), np.int8)\n",
    "\n",
    "lwss = np.array([[0,1,1,1,1], \n",
    "                 [1,0,0,0,1],\n",
    "                 [0,0,0,0,1],\n",
    "                 [1,0,0,1,0]])\n",
    "\n",
    "world_lwss[5:5+lwss.shape[0], 5:5+lwss.shape[1]] = lwss\n",
    "\n",
    "display_world(world_lwss, 25)"
   ]
  },
  {
   "cell_type": "markdown",
   "metadata": {},
   "source": [
    "## Methuselahs"
   ]
  },
  {
   "cell_type": "markdown",
   "metadata": {},
   "source": [
    "### R-pentomino"
   ]
  },
  {
   "cell_type": "code",
   "execution_count": 38,
   "metadata": {},
   "outputs": [
    {
     "data": {
      "image/png": "[encoded data removed]",
      "text/plain": [
       "<Figure size 432x288 with 1 Axes>"
      ]
     },
     "metadata": {},
     "output_type": "display_data"
    }
   ],
   "source": [
    "world_pento = np.zeros((60,60), np.int8)\n",
    "\n",
    "pento = np.array([[0,1,1], \n",
    "                  [1,1,0],\n",
    "                  [0,1,0]])\n",
    "\n",
    "world_pento[30:30+pento.shape[0], 30:30+pento.shape[1]] = pento\n",
    "\n",
    "display_world(world_pento, 100)"
   ]
  },
  {
   "cell_type": "markdown",
   "metadata": {},
   "source": [
    "### Die hard"
   ]
  },
  {
   "cell_type": "code",
   "execution_count": 39,
   "metadata": {},
   "outputs": [
    {
     "data": {
      "image/png": "[encoded data removed]",
      "text/plain": [
       "<Figure size 432x288 with 1 Axes>"
      ]
     },
     "metadata": {},
     "output_type": "display_data"
    }
   ],
   "source": [
    "world_dh = np.zeros((60,60), np.int8)\n",
    "\n",
    "dh = np.array([[0,0,0,0,0,0,1,0], \n",
    "               [1,1,0,0,0,0,0,0],\n",
    "               [0,1,0,0,0,1,1,1]])\n",
    "\n",
    "world_dh[30:30+dh.shape[0], 30:30+dh.shape[1]] = dh\n",
    "\n",
    "display_world(world_dh, 135)"
   ]
  },
  {
   "cell_type": "markdown",
   "metadata": {},
   "source": [
    "### Acorn"
   ]
  },
  {
   "cell_type": "code",
   "execution_count": 40,
   "metadata": {},
   "outputs": [
    {
     "data": {
      "image/png": "[encoded data removed]",
      "text/plain": [
       "<Figure size 432x288 with 1 Axes>"
      ]
     },
     "metadata": {},
     "output_type": "display_data"
    }
   ],
   "source": [
    "world_acorn = np.zeros((60,60), np.int8)\n",
    "\n",
    "acorn= np.array([[0,1,0,0,0,0,0], \n",
    "                 [0,0,0,1,0,0,0],\n",
    "                 [1,1,0,0,1,1,1]])\n",
    "\n",
    "world_acorn[30:30+acorn.shape[0], 30:30+acorn.shape[1]] = acorn\n",
    "\n",
    "display_world(world_acorn, 135)"
   ]
  },
  {
   "cell_type": "code",
   "execution_count": null,
   "metadata": {},
   "outputs": [],
   "source": []
  }
 ],
 "metadata": {
  "kernelspec": {
   "display_name": "Python 3",
   "language": "python",
   "name": "python3"
  },
  "language_info": {
   "codemirror_mode": {
    "name": "ipython",
    "version": 3
   },
   "file_extension": ".py",
   "mimetype": "text/x-python",
   "name": "python",
   "nbconvert_exporter": "python",
   "pygments_lexer": "ipython3",
   "version": "3.6.5"
  }
 },
 "nbformat": 4,
 "nbformat_minor": 2
}
